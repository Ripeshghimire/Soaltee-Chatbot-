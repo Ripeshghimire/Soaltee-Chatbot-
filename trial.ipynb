{
 "cells": [
  {
   "cell_type": "code",
   "execution_count": 1,
   "metadata": {},
   "outputs": [
    {
     "name": "stderr",
     "output_type": "stream",
     "text": [
      "/Users/ripeshghimire/anaconda3/envs/sujan/lib/python3.11/site-packages/huggingface_hub/file_download.py:1132: FutureWarning: `resume_download` is deprecated and will be removed in version 1.0.0. Downloads always resume when possible. If you want to force a new download, use `force_download=True`.\n",
      "  warnings.warn(\n",
      "/Users/ripeshghimire/anaconda3/envs/sujan/lib/python3.11/site-packages/huggingface_hub/file_download.py:1132: FutureWarning: `resume_download` is deprecated and will be removed in version 1.0.0. Downloads always resume when possible. If you want to force a new download, use `force_download=True`.\n",
      "  warnings.warn(\n"
     ]
    }
   ],
   "source": [
    "from sentence_transformers import SentenceTransformer\n",
    "sentences = [\"This is an example sentence\", \"Each sentence is converted\"]\n",
    "\n",
    "model = SentenceTransformer('sentence-transformers/all-MiniLM-L6-v2')\n",
    "embeddings = model.encode(sentences)\n"
   ]
  },
  {
   "cell_type": "code",
   "execution_count": 153,
   "metadata": {},
   "outputs": [],
   "source": [
    "#reading text file \n",
    "with open('soaltee_answers.txt') as f:\n",
    "    texts = f.read()"
   ]
  },
  {
   "cell_type": "code",
   "execution_count": 154,
   "metadata": {},
   "outputs": [],
   "source": [
    "# from langchain_text_splitters import RecursiveCharacterTextSplitter"
   ]
  },
  {
   "cell_type": "code",
   "execution_count": 155,
   "metadata": {},
   "outputs": [],
   "source": [
    "# text_splitter = RecursiveCharacterTextSplitter(\n",
    "#     chunk_size = 100,\n",
    "#     chunk_overlap=20,\n",
    "#     length_function=len,\n",
    "#     is_separator_regex=False,\n",
    "# )"
   ]
  },
  {
   "cell_type": "code",
   "execution_count": 156,
   "metadata": {},
   "outputs": [],
   "source": [
    "# text = text_splitter.create_documents([texts])\n",
    "# text = [i.page_content for i in text]\n",
    "# type(text)\n"
   ]
  },
  {
   "cell_type": "code",
   "execution_count": 2,
   "metadata": {},
   "outputs": [],
   "source": [
    "responses = [\n",
    "    \"The Soaltee Kathmandu is located at Tahachal, Kathmandu, Nepal, with a phone number: +977-1-4273999 and email: info@soaltee.com.\",\n",
    "    \"The brands of Soaltee Hotels are: 1. The Soaltee, Kathmandu 2. Soaltee Westend Premier, Nepalgunj 3. Soaltee Westland Resort, Chitwan 4. Soaltee Westend, Itahari.\",\n",
    "    \"Services provided by Soaltee include: - Exceptional Experience - Best Price Guarantee - Bespoke Luxury - Exquisite Dining - Captivating Events - Immersive Wellness.\",\n",
    "    \"Special offers include: - Happy Hour - Hookah Promotion - Mango Mania - Saturday Brunch (For each location, different offers are available.)\",\n",
    "    \"To make a reservation, visit 'https://soaltee.com/' and fill out the form.\",\n",
    "    \"Hotel rooms at Soaltee include: - Club Room - Executive Suite - Deluxe Room - Accessible Room - Classic Heritage - Executive Room - Regal Suite - Presidential Suite.\",\n",
    "    \"Restaurants at Soaltee include: - Sunrise Restaurant (Lobby, serving breakfast, brunch, lunch, dinner, dessert) - Sunset Bar (Lobby, open from 10:00 AM to 10:45 PM) - Coffee Lounge (Lobby, open from 10:00 AM to 10:00 PM) - Golden Terrace - All Day Dining (Lobby Level) - Bao Xuan - Flavors of China (Lobby Level).\",\n",
    "    \"Soaltee provides well-equipped conference rooms and health clubs with fitness centers, massages, steam, sauna, and mantra spas.\",\n",
    "    \"The price of hotel rooms varies; check the reservation page for specific room rates.\",\n",
    "    \"Breakfast and dinner are included in the hotel price.\",\n",
    "    \"The Soaltee, a Nepali brand established in 1966, is a pioneer in the hospitality industry. They are known for their authentic and personalized cultural experiences, rooted in the country's rich heritage and delivered with heartfelt passion.\",\n",
    "    \"The address of The Soaltee: Tahachal, Kathmandu, Nepal, 44600 Kathmandu, Nepal. Soaltee Westend Premier, Nepalgunj. Soaltee Westland Resort, Chitwan. Soaltee Westend, Itahari.\",\n",
    "    \"Phone number for Soaltee Westend Premier Nepalgunj: +977–81-551145. Email: res.swp@soaltee.com.\",\n",
    "    \"Address for Soaltee Westend Premier Nepalgunj: Bhujaigaun, Basudevpur, Nepalgunj, Nepal.\",\n",
    "    \"Phone number for Soaltee Westend Resort Chitwan: +977–56-411122. Email: res.swrc@soaltee.com.\",\n",
    "    \"Address for Soaltee Westend Resort Chitwan: BMC – 22, Pathiani, Chitwan, Nepal.\",\n",
    "    \"Phone number for Soaltee Westend Itahari: +977–25–590317/18/19. Email: info.swi@soaltee.com.\",\n",
    "    \"Address for Soaltee Westend Itahari: Dharan Road, Itahari – 2, Sunsari 56705.\",\n",
    "    \"You can store your luggage at the concierge.\",\n",
    "    \"Tranquility Spa, located next to the swimming pool, is newly opened.\",\n",
    "    \"Smoking is allowed only in the smoking rooms.\",\n",
    "    \"Amenities not placed in the rooms can be requested and will be delivered. A list of these amenities can be found in the 'Forget Something?' card in the bathroom.\",\n",
    "    \"A baby sitter can be arranged with prior information.\",\n",
    "    \"Safe deposit boxes are available in all rooms and at the cashier counter, free of charge.\",\n",
    "    \"An ATM machine is available on the premises, near the porch.\",\n",
    "    \"Lost keys can be replaced by contacting the front desk or duty manager.\",\n",
    "    \"The travel desk at the lobby can assist with sightseeing tours.\",\n",
    "    \"Checkout time is 11 am; contact the duty manager for late checkout.\",\n",
    "    \"City maps are available at the reception/concierge.\",\n",
    "    \"Each room has direct dial facility; dial '9' for local calls and '9' followed by country code, city code, and phone number for international calls. Dial '0' for operator assistance.\",\n",
    "    \"The duty manager will be sent for assistance.\",\n",
    "    \"The laundry is at Soaltee Mode, a few yards from the hotel's main gate. Assistance can be provided if needed.\",\n",
    "    \"The spa & jacuzzi are available at Tranquility Spa, located next to the swimming pool.\",\n",
    "    \"Laptops can be used in the restaurants.\",\n",
    "    \"The travel desk at the lobby can help reconfirm flight tickets.\",\n",
    "    \"Postage stamps are available at the concierge desk.\",\n",
    "    \"Bed linen is changed daily upon request or if soiled.\",\n",
    "    \"Breakfast is served at the coffee shop 'Garden Terrace' at the lobby level.\",\n",
    "    \"Contact the Duty Manager's desk at extn 41 for assistance.\",\n",
    "    \"Complimentary newspapers are available in public areas and restaurants; assistance can be provided to obtain a copy.\",\n",
    "    \"Restaurants at the hotel include Garden Terrace or Coffee Shop, Bao Xuan (serving Chinese cuisine), and Kakori (serving Indian cuisine).\",\n",
    "    \"The nearest movie theater is at Civil Mall Shopping Mall.\",\n",
    "    \"Local products can be found in Thamel.\",\n",
    "    \"Places to visit near the hotel include Bhaktapur Durbar Square, Patan Durbar Square, Kathmandu Durbar Square, Swayambhunath Temple, Pashupatinath Temple, Chandragiri Hills.\",\n",
    "    \"Phones can be charged at the reception.\",\n",
    "    \"Photocopying and printouts can be done at the Business Center at the lobby level.\"\n",
    "]\n"
   ]
  },
  {
   "cell_type": "code",
   "execution_count": 4,
   "metadata": {},
   "outputs": [
    {
     "name": "stderr",
     "output_type": "stream",
     "text": [
      "/Users/ripeshghimire/anaconda3/envs/sujan/lib/python3.11/site-packages/huggingface_hub/file_download.py:1132: FutureWarning: `resume_download` is deprecated and will be removed in version 1.0.0. Downloads always resume when possible. If you want to force a new download, use `force_download=True`.\n",
      "  warnings.warn(\n"
     ]
    },
    {
     "data": {
      "text/plain": [
       "numpy.ndarray"
      ]
     },
     "execution_count": 4,
     "metadata": {},
     "output_type": "execute_result"
    }
   ],
   "source": [
    "from sentence_transformers import SentenceTransformer\n"
   ]
  },
  {
   "cell_type": "code",
   "execution_count": 5,
   "metadata": {},
   "outputs": [
    {
     "data": {
      "text/plain": [
       "(46, 384)"
      ]
     },
     "execution_count": 5,
     "metadata": {},
     "output_type": "execute_result"
    }
   ],
   "source": [
    "embeddings.shape"
   ]
  },
  {
   "cell_type": "code",
   "execution_count": 132,
   "metadata": {},
   "outputs": [
    {
     "data": {
      "text/html": [
       "<div>\n",
       "<style scoped>\n",
       "    .dataframe tbody tr th:only-of-type {\n",
       "        vertical-align: middle;\n",
       "    }\n",
       "\n",
       "    .dataframe tbody tr th {\n",
       "        vertical-align: top;\n",
       "    }\n",
       "\n",
       "    .dataframe thead th {\n",
       "        text-align: right;\n",
       "    }\n",
       "</style>\n",
       "<table border=\"1\" class=\"dataframe\">\n",
       "  <thead>\n",
       "    <tr style=\"text-align: right;\">\n",
       "      <th></th>\n",
       "      <th>answer</th>\n",
       "      <th>embeddings</th>\n",
       "    </tr>\n",
       "  </thead>\n",
       "  <tbody>\n",
       "    <tr>\n",
       "      <th>0</th>\n",
       "      <td>responses:\\n  utter_greet:\\n  - text: |-\\n    ...</td>\n",
       "      <td>[-0.013719346, 0.092394955, 0.037499797, 0.013...</td>\n",
       "    </tr>\n",
       "    <tr>\n",
       "      <th>1</th>\n",
       "      <td>Ask me your queries about The Soaltee Hotels a...</td>\n",
       "      <td>[0.12023243, 0.015355982, -0.050423633, 0.0807...</td>\n",
       "    </tr>\n",
       "    <tr>\n",
       "      <th>2</th>\n",
       "      <td>utter_Q1:\\n  - text: |-\\n    the location of s...</td>\n",
       "      <td>[0.054636914, 0.11867621, -0.029251114, 0.0525...</td>\n",
       "    </tr>\n",
       "    <tr>\n",
       "      <th>3</th>\n",
       "      <td>Phone Number: +977-1-4273999\\n\\n      Email: i...</td>\n",
       "      <td>[-0.11014842, -0.018351734, 0.026048703, -0.00...</td>\n",
       "    </tr>\n",
       "    <tr>\n",
       "      <th>4</th>\n",
       "      <td>utter_Q2:\\n  - text: |-\\n    the brands of soa...</td>\n",
       "      <td>[-0.007376327, 0.0737356, -0.017961541, 0.0239...</td>\n",
       "    </tr>\n",
       "  </tbody>\n",
       "</table>\n",
       "</div>"
      ],
      "text/plain": [
       "                                              answer  \\\n",
       "0  responses:\\n  utter_greet:\\n  - text: |-\\n    ...   \n",
       "1  Ask me your queries about The Soaltee Hotels a...   \n",
       "2  utter_Q1:\\n  - text: |-\\n    the location of s...   \n",
       "3  Phone Number: +977-1-4273999\\n\\n      Email: i...   \n",
       "4  utter_Q2:\\n  - text: |-\\n    the brands of soa...   \n",
       "\n",
       "                                          embeddings  \n",
       "0  [-0.013719346, 0.092394955, 0.037499797, 0.013...  \n",
       "1  [0.12023243, 0.015355982, -0.050423633, 0.0807...  \n",
       "2  [0.054636914, 0.11867621, -0.029251114, 0.0525...  \n",
       "3  [-0.11014842, -0.018351734, 0.026048703, -0.00...  \n",
       "4  [-0.007376327, 0.0737356, -0.017961541, 0.0239...  "
      ]
     },
     "execution_count": 132,
     "metadata": {},
     "output_type": "execute_result"
    }
   ],
   "source": [
    "# import pandas as pd \n",
    "# df = pd.DataFrame(columns=['answer','embeddings'])\n",
    "# df['answer'] = text\n",
    "# df['embeddings'] = [list(i) for i in embeddings]\n",
    "# df.head()"
   ]
  },
  {
   "cell_type": "code",
   "execution_count": 6,
   "metadata": {},
   "outputs": [],
   "source": [
    "import numpy as np"
   ]
  },
  {
   "cell_type": "code",
   "execution_count": 44,
   "metadata": {},
   "outputs": [],
   "source": [
    "query = 'where is soaltee hotel located at'\n",
    "query=\"what is the checkout time?\"\n",
    "encoded_query = model.encode(query)\n",
    "# encoded_query = list(np.array(encoded_query).reshape(-1,1))\n",
    "# encoded_query.shape"
   ]
  },
  {
   "cell_type": "code",
   "execution_count": 88,
   "metadata": {},
   "outputs": [],
   "source": [
    "import spacy\n",
    "nlp = spacy.load(\"en_core_web_sm\", disable=[\"tagger\", \"attribute_ruler\", \"lemmatizer\"])"
   ]
  },
  {
   "cell_type": "code",
   "execution_count": 45,
   "metadata": {},
   "outputs": [],
   "source": [
    "from sklearn.metrics.pairwise import cosine_similarity"
   ]
  },
  {
   "cell_type": "code",
   "execution_count": 46,
   "metadata": {},
   "outputs": [],
   "source": [
    "# np.array(df[\"embeddings\"].values).shape, embeddings.shape"
   ]
  },
  {
   "cell_type": "code",
   "execution_count": 47,
   "metadata": {},
   "outputs": [],
   "source": [
    "cosin_sims = cosine_similarity([encoded_query], embeddings).reshape(-1)"
   ]
  },
  {
   "cell_type": "code",
   "execution_count": 48,
   "metadata": {},
   "outputs": [
    {
     "data": {
      "text/plain": [
       "(27, 0.6525177)"
      ]
     },
     "execution_count": 48,
     "metadata": {},
     "output_type": "execute_result"
    }
   ],
   "source": [
    "np.argmax(cosin_sims), cosin_sims.max()"
   ]
  },
  {
   "cell_type": "code",
   "execution_count": 49,
   "metadata": {},
   "outputs": [
    {
     "data": {
      "text/plain": [
       "'Checkout time is 11 am; contact the duty manager for late checkout.'"
      ]
     },
     "execution_count": 49,
     "metadata": {},
     "output_type": "execute_result"
    }
   ],
   "source": [
    "responses[np.argmax(cosin_sims)]"
   ]
  },
  {
   "cell_type": "code",
   "execution_count": 85,
   "metadata": {},
   "outputs": [],
   "source": [
    "# for i in responses:\n",
    "#     doc = nlp(i)\n",
    "#     for token in doc:\n",
    "#         print(token.)"
   ]
  },
  {
   "cell_type": "code",
   "execution_count": 64,
   "metadata": {},
   "outputs": [
    {
     "data": {
      "text/plain": [
       "[]"
      ]
     },
     "execution_count": 64,
     "metadata": {},
     "output_type": "execute_result"
    }
   ],
   "source": []
  },
  {
   "cell_type": "code",
   "execution_count": 91,
   "metadata": {},
   "outputs": [
    {
     "data": {
      "text/plain": [
       "[]"
      ]
     },
     "execution_count": 91,
     "metadata": {},
     "output_type": "execute_result"
    }
   ],
   "source": [
    "query = 'where is the location'\n",
    "ner_query = nlp(query)\n",
    "question_entities = ([ent.text for ent in ner_query.ents])\n",
    "question_entities\n",
    "\n"
   ]
  },
  {
   "cell_type": "code",
   "execution_count": 61,
   "metadata": {},
   "outputs": [],
   "source": [
    "from sklearn.metrics.pairwise import cosine_similarity"
   ]
  },
  {
   "cell_type": "code",
   "execution_count": 66,
   "metadata": {},
   "outputs": [],
   "source": [
    "similarities= cosine_similarity(encoded_query,embeddings)\n"
   ]
  },
  {
   "cell_type": "code",
   "execution_count": 67,
   "metadata": {},
   "outputs": [],
   "source": [
    "k = 1\n",
    "top_k_indices = similarities[0].argsort()[-k:][::-1]\n",
    "top_k_similarities = [similarities[0][i] for i in top_k_indices]\n",
    "top_k_text_chunks = [df['answer'].iloc[i] for i in top_k_indices]"
   ]
  },
  {
   "cell_type": "code",
   "execution_count": 89,
   "metadata": {},
   "outputs": [
    {
     "ename": "NameError",
     "evalue": "name 'top_k_text_chunks' is not defined",
     "output_type": "error",
     "traceback": [
      "\u001b[0;31m---------------------------------------------------------------------------\u001b[0m",
      "\u001b[0;31mNameError\u001b[0m                                 Traceback (most recent call last)",
      "Cell \u001b[0;32mIn[89], line 3\u001b[0m\n\u001b[1;32m      1\u001b[0m result \u001b[38;5;241m=\u001b[39m [\n\u001b[1;32m      2\u001b[0m         {\u001b[38;5;124m'\u001b[39m\u001b[38;5;124mtext_chunk\u001b[39m\u001b[38;5;124m'\u001b[39m: text_chunk, \u001b[38;5;124m'\u001b[39m\u001b[38;5;124msimilarity\u001b[39m\u001b[38;5;124m'\u001b[39m: similarity}\n\u001b[0;32m----> 3\u001b[0m         \u001b[38;5;28;01mfor\u001b[39;00m text_chunk, similarity \u001b[38;5;129;01min\u001b[39;00m \u001b[38;5;28mzip\u001b[39m(\u001b[43mtop_k_text_chunks\u001b[49m, top_k_similarities)\n\u001b[1;32m      4\u001b[0m     ]\n\u001b[1;32m      5\u001b[0m result\n",
      "\u001b[0;31mNameError\u001b[0m: name 'top_k_text_chunks' is not defined"
     ]
    }
   ],
   "source": [
    "result = [\n",
    "        {'text_chunk': text_chunk, 'similarity': similarity}\n",
    "        for text_chunk, similarity in zip(top_k_text_chunks, top_k_similarities)\n",
    "    ]\n",
    "result"
   ]
  },
  {
   "cell_type": "code",
   "execution_count": null,
   "metadata": {},
   "outputs": [],
   "source": []
  }
 ],
 "metadata": {
  "kernelspec": {
   "display_name": "Python 3",
   "language": "python",
   "name": "python3"
  },
  "language_info": {
   "codemirror_mode": {
    "name": "ipython",
    "version": 3
   },
   "file_extension": ".py",
   "mimetype": "text/x-python",
   "name": "python",
   "nbconvert_exporter": "python",
   "pygments_lexer": "ipython3",
   "version": "3.11.0"
  }
 },
 "nbformat": 4,
 "nbformat_minor": 2
}
